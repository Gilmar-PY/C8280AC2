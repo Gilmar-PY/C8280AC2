{
  "nbformat": 4,
  "nbformat_minor": 0,
  "metadata": {
    "colab": {
      "provenance": [],
      "authorship_tag": "ABX9TyN+eKziyJwkBpa/6n0q3gYM",
      "include_colab_link": true
    },
    "kernelspec": {
      "name": "python3",
      "display_name": "Python 3"
    },
    "language_info": {
      "name": "python"
    }
  },
  "cells": [
    {
      "cell_type": "markdown",
      "metadata": {
        "id": "view-in-github",
        "colab_type": "text"
      },
      "source": [
        "<a href=\"https://colab.research.google.com/github/Gilmar-PY/C8280AC2/blob/main/Actividad2.ipynb\" target=\"_parent\"><img src=\"https://colab.research.google.com/assets/colab-badge.svg\" alt=\"Open In Colab\"/></a>"
      ]
    },
    {
      "cell_type": "markdown",
      "source": [
        "**Matrices**                     \n",
        "Una matriz NumPy es una colección de valores de tipos de datos similares y está indexada por una tupla de números no negativos. El rango de la matriz es el número de dimensiones, y la forma de una matriz es una tupla de números que dan el tamaño de la matriz a lo largo de cada dimensión"
      ],
      "metadata": {
        "id": "FOJq3Kkoiqbk"
      }
    },
    {
      "cell_type": "code",
      "source": [
        "# Ejemplo \n",
        "from __future__ import division\n",
        "import time\n",
        "import numpy as np\n",
        "tam_vec = 1000\n",
        "def lista_python():\n",
        "    t1 = time.time()\n",
        "    X = range(tam_vec)\n",
        "    Y = range(tam_vec)\n",
        "    Z = []\n",
        "    for i in range(len(X)):\n",
        "        Z.append(X[i] + Y[i])\n",
        "    return time.time() - t1\n",
        "def matriz_numpy():\n",
        "    t1 = time.time()\n",
        "    X = np.arange(tam_vec)\n",
        "    Y = np.arange(tam_vec)\n",
        "    Z = X + Y\n",
        "    return time.time() - t1\n",
        "# Completar\n",
        "import numpy\n",
        "print(numpy.__version__)\n",
        "\n"
      ],
      "metadata": {
        "colab": {
          "base_uri": "https://localhost:8080/"
        },
        "id": "_plYwtGMjBBZ",
        "outputId": "6db2f8c4-44da-481f-a758-e291dde2354c"
      },
      "execution_count": 1,
      "outputs": [
        {
          "output_type": "stream",
          "name": "stdout",
          "text": [
            "1.22.4\n"
          ]
        }
      ]
    },
    {
      "cell_type": "markdown",
      "source": [
        "Podemos inicializar matrices NumPy a partir de listas de Python anidadas y acceder a los elementos mediante corchetes."
      ],
      "metadata": {
        "id": "vpeDY3b4l1Hy"
      }
    },
    {
      "cell_type": "code",
      "source": [
        "import numpy as np\n",
        "\n",
        "# Creamos una matriz 3x3 de todos ceros\n",
        "a = np.zeros((3,3)) \n",
        "print(a)\n",
        "\n",
        "# Creamos una matriz 2x2 de todos 1\n",
        "b = np.ones((2,2))  \n",
        "print(b)\n",
        "\n",
        "# Creamos una matriz 3x3 constantes\n",
        "c = np.full((3,3), 7)\n",
        "print(c)\n",
        "\n",
        "# Creamos una matriz 3x3 con valores aleatorios\n",
        "d = np.random.random((3,3)) \n",
        "print(d)\n",
        "\n",
        "# Creamos una matriz identidad 3x3 \n",
        "e = np.eye(3)\n",
        "print(e)\n",
        "\n",
        "# Convertir una lista en una matriz \n",
        "f = np.array([2, 3, 1,0])\n",
        "print(f)\n",
        "\n",
        "# arange() crea matrices con valores que se incrementan regularmente\n",
        "g = np.arange(0, 20, 2) # Del 0 al 20 con incremento de 2\n",
        "print(g)\n",
        "\n",
        "# Mezcla de tupla y listas\n",
        "h = np.array([(1.5,2,3), (4,5,6)]) # Crea una matriz de 2x3\n",
        "print(h)\n",
        "\n",
        "# Crear una matriz de rango con tipo de datos flotante\n",
        "i = np.arange(1, 8, dtype=np.float64)\n",
        "print(i)\n",
        "\n",
        "# linspace() crea matrices con un numero especifico de elementos que están espaciados por igual entre los valores inicial y final especificados\n",
        "j = np.linspace(0, 1, num=5) # Genera 5 números igualmente espaciados entre 0 y 1\n",
        "print(j)\n"
      ],
      "metadata": {
        "colab": {
          "base_uri": "https://localhost:8080/"
        },
        "id": "0XSEG2r7l3v1",
        "outputId": "67072ea0-e01b-46cb-edaf-bb07be3cb59b"
      },
      "execution_count": 2,
      "outputs": [
        {
          "output_type": "stream",
          "name": "stdout",
          "text": [
            "[[0. 0. 0.]\n",
            " [0. 0. 0.]\n",
            " [0. 0. 0.]]\n",
            "[[1. 1.]\n",
            " [1. 1.]]\n",
            "[[7 7 7]\n",
            " [7 7 7]\n",
            " [7 7 7]]\n",
            "[[0.87599492 0.17936402 0.37915184]\n",
            " [0.75275122 0.00429027 0.03875078]\n",
            " [0.71058745 0.16809042 0.04854757]]\n",
            "[[1. 0. 0.]\n",
            " [0. 1. 0.]\n",
            " [0. 0. 1.]]\n",
            "[2 3 1 0]\n",
            "[ 0  2  4  6  8 10 12 14 16 18]\n",
            "[[1.5 2.  3. ]\n",
            " [4.  5.  6. ]]\n",
            "[1. 2. 3. 4. 5. 6. 7.]\n",
            "[0.   0.25 0.5  0.75 1.  ]\n"
          ]
        }
      ]
    },
    {
      "cell_type": "markdown",
      "source": [
        "**Tipos de datos**\n",
        "\n",
        "Una matriz es una colección de elementos del mismo tipo de datos y NumPy admite y proporciona funciones integradas para construir matrices con argumentos opcionales para especificar explícitamente los tipos de datos requeridos."
      ],
      "metadata": {
        "id": "plfMZXmIq8FM"
      }
    },
    {
      "cell_type": "code",
      "source": [
        "# Numpy escoge el tipo de datos\n",
        "x = np.array([0, 1])  \n",
        "y = np.array([2.0, 3.0])  \n",
        "\n",
        "# Fuerza un tipo de datos en particular\n",
        "z = np.array([5, 6], dtype=np.int64)  \n",
        "print (x.dtype, y.dtype, z.dtype)\n",
        "\n",
        "### Ejercicio Completa el siguiente código\n",
        "import numpy as np\n",
        "\n",
        "np.random.seed(0)\n",
        "\n",
        "x1 = np.random.randint(10, size=6)  # matriz 1-d\n",
        "x2 = np.random.randint(10, size=(3, 4))  # matriz 2-d\n",
        "x3 = np.random.randint(10, size=(3, 4, 5)) # matriz 3-d\n",
        "\n",
        "# Imprime los atributos: dim, shape, size, dtype, itemsize y nbytes\n",
        "print(\"x1:\")\n",
        "print(\"Dimension:\", x1.ndim)\n",
        "print(\"Shape:\", x1.shape)\n",
        "print(\"Size:\", x1.size)\n",
        "print(\"Dtype:\", x1.dtype)\n",
        "print(\"Itemsize:\", x1.itemsize, \"bytes\")\n",
        "print(\"Nbytes:\", x1.nbytes, \"bytes\")\n",
        "\n",
        "print(\"\\nx2:\")\n",
        "print(\"Dimension:\", x2.ndim)\n",
        "print(\"Shape:\", x2.shape)\n",
        "print(\"Size:\", x2.size)\n",
        "print(\"Dtype:\", x2.dtype)\n",
        "print(\"Itemsize:\", x2.itemsize, \"bytes\")\n",
        "print(\"Nbytes:\", x2.nbytes, \"bytes\")\n",
        "\n",
        "print(\"\\nx3:\")\n",
        "print(\"Dimension:\", x3.ndim)\n",
        "print(\"Shape:\", x3.shape)\n",
        "print(\"Size:\", x3.size)\n",
        "print(\"Dtype:\", x3.dtype)\n",
        "print(\"Itemsize:\", x3.itemsize, \"bytes\")\n",
        "print(\"Nbytes:\", x3.nbytes, \"bytes\")\n"
      ],
      "metadata": {
        "colab": {
          "base_uri": "https://localhost:8080/"
        },
        "id": "mv0YpBdRrBb-",
        "outputId": "a7ce2343-8b4b-4c4d-fa21-24fa9a4b7021"
      },
      "execution_count": 3,
      "outputs": [
        {
          "output_type": "stream",
          "name": "stdout",
          "text": [
            "int64 float64 int64\n",
            "x1:\n",
            "Dimension: 1\n",
            "Shape: (6,)\n",
            "Size: 6\n",
            "Dtype: int64\n",
            "Itemsize: 8 bytes\n",
            "Nbytes: 48 bytes\n",
            "\n",
            "x2:\n",
            "Dimension: 2\n",
            "Shape: (3, 4)\n",
            "Size: 12\n",
            "Dtype: int64\n",
            "Itemsize: 8 bytes\n",
            "Nbytes: 96 bytes\n",
            "\n",
            "x3:\n",
            "Dimension: 3\n",
            "Shape: (3, 4, 5)\n",
            "Size: 60\n",
            "Dtype: int64\n",
            "Itemsize: 8 bytes\n",
            "Nbytes: 480 bytes\n"
          ]
        }
      ]
    },
    {
      "cell_type": "markdown",
      "source": [
        "**Indexación de matrices**\n",
        "\n",
        "**Acceso al campo**"
      ],
      "metadata": {
        "id": "QmtwMiedtXfn"
      }
    },
    {
      "cell_type": "code",
      "source": [
        "import numpy as np\n",
        "\n",
        "x = np.array([5, 6, 7, 8, 9])\n",
        "\n",
        "# Utilizando pasos de 2\n",
        "print(x[1:7:2])\n",
        "\n",
        "# Usando índices negativos\n",
        "print(x[-2:5]) \n",
        "print(x[-1:1:-1])\n",
        "\n",
        "# Si no se proporciona un inicio de rango, se toma el valor predeterminado como 0 para pasos positivos, y n-1 para pasos negativos\n",
        "print(x[4:]) # Selecciona todos los elementos desde el cuarto índice hasta el final\n",
        "\n",
        "# Usando elipsis\n",
        "x2 = np.array([[1, 2, 3], [4, 5, 6], [7, 8, 9]])\n",
        "print(x2[...,0])  # Esto seleccionará todos los elementos en el primer índice del segundo eje (o sea, la primera columna)\n",
        "\n"
      ],
      "metadata": {
        "colab": {
          "base_uri": "https://localhost:8080/"
        },
        "id": "w-r2z_q5Y-FO",
        "outputId": "5a4f2733-2e80-48f0-d9bc-a18651c27177"
      },
      "execution_count": 2,
      "outputs": [
        {
          "output_type": "stream",
          "name": "stdout",
          "text": [
            "[6 8]\n",
            "[8 9]\n",
            "[9 8 7]\n",
            "[9]\n",
            "[1 4 7]\n"
          ]
        }
      ]
    },
    {
      "cell_type": "markdown",
      "source": [
        "**Ejercicio**\n",
        "\n",
        "Crea una matriz de rango 2 con dimension (3, 4)\n",
        "Usa el recorte para extraer la submatriz que consta de las primeras 2 filas y las columnas 1 y 2.\n",
        "Una parte de una matriz es solo una vista de los mismos datos, comprueba quecualquier modificación modificará la matriz original."
      ],
      "metadata": {
        "id": "sZ9QCNyYgPyE"
      }
    },
    {
      "cell_type": "code",
      "source": [
        "import numpy as np\n",
        "# Crea una matriz de rango 2 con dimension (3, 4)\n",
        "x = np.array([[1, 2, 3, 4], [5, 6, 7, 8], [9, 10, 11, 12]])\n",
        "\n",
        "# Usa el recorte para extraer la submatriz que consta de las primeras 2 filas y las columnas 1 y 2.\n",
        "sub_matriz = x[:2, 1:3]\n",
        "print(\"Submatriz:\")\n",
        "print(sub_matriz)\n",
        "\n",
        "sub_matriz[0, 0] = 50 # modificamos el primer elemento de la submatriz\n",
        "\n",
        "print(\"\\nMatriz original tras modificar la submatriz:\")\n",
        "print(x)\n"
      ],
      "metadata": {
        "colab": {
          "base_uri": "https://localhost:8080/"
        },
        "id": "762BMW4ugWg2",
        "outputId": "e8050d5a-1ee9-4656-e7e7-70a77b13a07a"
      },
      "execution_count": 3,
      "outputs": [
        {
          "output_type": "stream",
          "name": "stdout",
          "text": [
            "Submatriz:\n",
            "[[2 3]\n",
            " [6 7]]\n",
            "\n",
            "Matriz original tras modificar la submatriz:\n",
            "[[ 1 50  3  4]\n",
            " [ 5  6  7  8]\n",
            " [ 9 10 11 12]]\n"
          ]
        }
      ]
    },
    {
      "cell_type": "markdown",
      "source": [
        "**Indexación avanzada**"
      ],
      "metadata": {
        "id": "Z4jwqPkCgwvU"
      }
    },
    {
      "cell_type": "code",
      "source": [
        "import numpy as np\n",
        "\n",
        "# Creamos una matriz\n",
        "a = np.array([[1,2], [3, 4]])\n",
        "# Indexación avanzada\n",
        "print(a[[0, 1], [0, 1]])\n",
        "print(np.array([a[0, 0], a[1, 1]]))\n",
        "print(a[[0, 0], [1, 1]])\n",
        "print(np.array([a[0, 1], a[0, 1]]))\n"
      ],
      "metadata": {
        "colab": {
          "base_uri": "https://localhost:8080/"
        },
        "id": "m1NDnlcqiGzh",
        "outputId": "d31e5379-c019-4fbb-f2e8-c5f455a0aa46"
      },
      "execution_count": 4,
      "outputs": [
        {
          "output_type": "stream",
          "name": "stdout",
          "text": [
            "[1 4]\n",
            "[1 4]\n",
            "[2 2]\n",
            "[2 2]\n"
          ]
        }
      ]
    },
    {
      "cell_type": "code",
      "source": [
        "import numpy as np\n",
        "\n",
        "# Creamos una matriz\n",
        "a = np.array([[1,2], [3, 4]])\n",
        "# Indexación avanzada\n",
        "print(a[[0, 1], [0, 1]])\n",
        "print(np.array([a[0, 0], a[1, 1]]))\n",
        "# Al usar la indexación de un matriz se reutiliza el mismo elemento de la matriz de origen:\n",
        "print(a[[0, 0], [1, 1]])\n",
        "print(np.array([a[0, 1], a[0, 1]]))\n",
        "\n",
        "# Reshaping\n",
        "x4 = np.arange(1, 10).reshape((3, 3))\n",
        "print(x4)\n",
        "\n",
        "# Conversión de una matriz unidimensional en una fila o columna de una matriz bidimensional\n",
        "x5 = np.array([1, 2, 3])\n",
        "# vector fila via reshape\n",
        "x5_row = x5.reshape((1, 3))\n",
        "print(x5_row)\n",
        "\n",
        "# vector fila con newaxis\n",
        "x5_row_newaxis = x5[np.newaxis, :]\n",
        "print(x5_row_newaxis)\n",
        "\n",
        "# vector columna via reshape\n",
        "x5_col = x5.reshape((3, 1))\n",
        "print(x5_col)\n",
        "\n",
        "# vector columna con newaxis\n",
        "x5_col_newaxis = x5[:, np.newaxis]\n",
        "print(x5_col_newaxis)\n"
      ],
      "metadata": {
        "colab": {
          "base_uri": "https://localhost:8080/"
        },
        "id": "XRiS70Fujre6",
        "outputId": "5f14a9e7-46eb-4a16-8abe-241f7bf7c83b"
      },
      "execution_count": 5,
      "outputs": [
        {
          "output_type": "stream",
          "name": "stdout",
          "text": [
            "[1 4]\n",
            "[1 4]\n",
            "[2 2]\n",
            "[2 2]\n",
            "[[1 2 3]\n",
            " [4 5 6]\n",
            " [7 8 9]]\n",
            "[[1 2 3]]\n",
            "[[1 2 3]]\n",
            "[[1]\n",
            " [2]\n",
            " [3]]\n",
            "[[1]\n",
            " [2]\n",
            " [3]]\n"
          ]
        }
      ]
    },
    {
      "cell_type": "markdown",
      "source": [
        "**Concatenación y separación**"
      ],
      "metadata": {
        "id": "IbVtNN7rkTsq"
      }
    },
    {
      "cell_type": "code",
      "source": [
        "import numpy as np\n",
        "x = np.array([4, 5, 6])\n",
        "y = np.array([7, 8, 9])\n",
        "print(np.concatenate([x, y]))\n",
        "\n",
        "# concatenacion de dos o mas matrices\n",
        "z = [99, 99, 99]\n",
        "print(np.concatenate([x, y, z]))\n",
        "\n",
        "# concatendo una matriz dos veces\n",
        "grid = np.array([[1, 2, 3],\n",
        "                 [4, 5, 6]])\n",
        "print(np.concatenate([grid, grid]))\n",
        "\n",
        "# Para matrices de distintas dimensiones, se usan las funciones vstack y hstack:\n",
        "x = np.array([0, 1, 2])\n",
        "grid = np.array([[3, 4, 5],\n",
        "                 [6, 5, 4]])\n",
        "\n",
        "# Se junta la matriz de manera vertical\n",
        "print(np.vstack([x, grid]))\n",
        "\n",
        "# Se junta la matriz de manera horizontal\n",
        "y = np.array([[23],\n",
        "              [23]])\n",
        "print(np.hstack([grid, y]))\n",
        "\n",
        "# División o separación de matrices\n",
        "x = [1, 2, 3, 44, 95, 3, 2, 1]\n",
        "x1, x2, x3 = np.split(x, [3, 5])\n",
        "print(x1, x2, x3)\n",
        "\n",
        "# Fancy indexing\n",
        "rand = np.random.RandomState(42)\n",
        "x = rand.randint(100, size=10)\n",
        "print(x)\n",
        "\n",
        "# Accedemos a tres elementos diferentes\n",
        "indices = [1, 5, 2]\n",
        "print(x[indices])\n",
        "\n",
        "# Trabajar en múltiples dimensiones\n",
        "X = np.arange(12).reshape((3, 4))\n",
        "print(X)\n",
        "\n",
        "row = np.array([0, 1, 2])\n",
        "col = np.array([2, 1, 3])\n",
        "print(X[row, col])\n",
        "\n",
        "# Broadcasting\n",
        "print(row[:, np.newaxis] * col)\n",
        "\n",
        "# Combinando indexado fancy y indices simples\n",
        "print(X[2, [2, 0, 1]])\n",
        "\n",
        "# Combinando indexado fancy y el recorte\n",
        "print(X[1:, [2, 0, 1]])\n",
        "\n",
        "# Modificando partes de una matriz con fancy indexing\n",
        "x = np.arange(10)\n",
        "i = np.array([2, 1, 8, 4])\n",
        "x[i] = 99\n",
        "print(x)\n",
        "\n",
        "# Operación inesperada con índices repetidos\n",
        "x = np.zeros(10)\n",
        "x[[0, 0]] = [4, 6]\n",
        "print(x)\n",
        "\n",
        "i = [2, 3, 3, 4, 4, 4]\n",
        "x[i] += 1\n",
        "print(x)\n",
        "\n",
        "# Método at() de ufuncs\n",
        "x = np.zeros(10)\n",
        "np.add.at(x, i, 1)\n",
        "print(x)\n"
      ],
      "metadata": {
        "colab": {
          "base_uri": "https://localhost:8080/"
        },
        "id": "beVc_VTtlZ4-",
        "outputId": "f986ae8f-dbb1-4168-9b9f-93af08ce94b9"
      },
      "execution_count": 7,
      "outputs": [
        {
          "output_type": "stream",
          "name": "stdout",
          "text": [
            "[4 5 6 7 8 9]\n",
            "[ 4  5  6  7  8  9 99 99 99]\n",
            "[[1 2 3]\n",
            " [4 5 6]\n",
            " [1 2 3]\n",
            " [4 5 6]]\n",
            "[[0 1 2]\n",
            " [3 4 5]\n",
            " [6 5 4]]\n",
            "[[ 3  4  5 23]\n",
            " [ 6  5  4 23]]\n",
            "[1 2 3] [44 95] [3 2 1]\n",
            "[51 92 14 71 60 20 82 86 74 74]\n",
            "[92 20 14]\n",
            "[[ 0  1  2  3]\n",
            " [ 4  5  6  7]\n",
            " [ 8  9 10 11]]\n",
            "[ 2  5 11]\n",
            "[[0 0 0]\n",
            " [2 1 3]\n",
            " [4 2 6]]\n",
            "[10  8  9]\n",
            "[[ 6  4  5]\n",
            " [10  8  9]]\n",
            "[ 0 99 99  3 99  5  6  7 99  9]\n",
            "[6. 0. 0. 0. 0. 0. 0. 0. 0. 0.]\n",
            "[6. 0. 1. 1. 1. 0. 0. 0. 0. 0.]\n",
            "[0. 0. 1. 2. 3. 0. 0. 0. 0. 0.]\n"
          ]
        }
      ]
    },
    {
      "cell_type": "markdown",
      "source": [
        "Expresiones vectorizadas\n",
        "\n",
        "Agregaciones "
      ],
      "metadata": {
        "id": "W_wX6nsVnkve"
      }
    },
    {
      "cell_type": "code",
      "source": [
        "import numpy as np\n",
        "\n",
        "# Generamos 100 números aleatorios\n",
        "L = np.random.random(100)\n",
        "\n",
        "# Sumamos todos los números generados\n",
        "print(sum(L))\n",
        "\n",
        "# Usando np.sum para realizar la suma\n",
        "print(np.sum(L))\n",
        "\n",
        "# Creando una matriz grande de números aleatorios\n",
        "matriz_grande = np.random.rand(1000000)\n",
        "\n",
        "# Usando la función de sum de Python\n",
        "%timeit sum(matriz_grande)\n",
        "\n",
        "# Usando np.sum\n",
        "%timeit np.sum(matriz_grande)\n",
        "\n",
        "# Probando las funciones min y max de Python\n",
        "print(min(matriz_grande), max(matriz_grande))\n",
        "\n",
        "# Cronometrando las funciones min y max de Python\n",
        "%timeit min(matriz_grande)\n",
        "%timeit max(matriz_grande)\n",
        "\n",
        "# Cronometrando np.min y np.max\n",
        "%timeit np.min(matriz_grande)\n",
        "%timeit np.max(matriz_grande)\n",
        "\n",
        "# Generando una matriz de números aleatorios con una distribución normal\n",
        "data = np.random.normal(size=(15, 15))\n",
        "\n",
        "# Calculando la media de los datos\n",
        "print(np.mean(data))\n",
        "\n",
        "# Usando el método mean de la clase ndarray\n",
        "print(data.mean())\n",
        "\n",
        "# Creando una matriz M\n",
        "M = np.random.random((5, 6))\n",
        "print(M)\n",
        "\n",
        "# Sumando todos los elementos de M\n",
        "print(M.sum())\n",
        "\n",
        "# Sumando los elementos de cada columna de M (axis=0)\n",
        "print(M.sum(axis=0))\n",
        "\n",
        "# Creando una matriz 3D\n",
        "data = np.random.normal(size=(5, 10, 15))\n",
        "\n",
        "# Comprobando las dimensiones al sumar sobre el primer eje (axis=0)\n",
        "print(data.sum(axis=0).shape)\n",
        "\n",
        "# Comprobando las dimensiones al sumar sobre el primer y último eje (axis=(0, 2))\n",
        "print(data.sum(axis=(0, 2)).shape)\n",
        "\n",
        "# Sumando todos los elementos de la matriz\n",
        "print(data.sum())\n"
      ],
      "metadata": {
        "colab": {
          "base_uri": "https://localhost:8080/"
        },
        "id": "Mh1N1vPuoQX2",
        "outputId": "92552228-c7b8-4a0c-a1e0-88cb35c28914"
      },
      "execution_count": 9,
      "outputs": [
        {
          "output_type": "stream",
          "name": "stdout",
          "text": [
            "51.91480529344025\n",
            "51.914805293440246\n",
            "90.5 ms ± 3.08 ms per loop (mean ± std. dev. of 7 runs, 10 loops each)\n",
            "573 µs ± 209 µs per loop (mean ± std. dev. of 7 runs, 1000 loops each)\n",
            "3.0185099157975515e-06 0.9999984248234998\n",
            "62.8 ms ± 1.15 ms per loop (mean ± std. dev. of 7 runs, 10 loops each)\n",
            "83.7 ms ± 25.9 ms per loop (mean ± std. dev. of 7 runs, 10 loops each)\n",
            "455 µs ± 17.3 µs per loop (mean ± std. dev. of 7 runs, 1000 loops each)\n",
            "441 µs ± 10.6 µs per loop (mean ± std. dev. of 7 runs, 1000 loops each)\n",
            "-0.043423813956152\n",
            "-0.043423813956152\n",
            "[[0.48005443 0.31120198 0.72355208 0.96661499 0.11794458 0.71913579]\n",
            " [0.07398183 0.69626344 0.21234385 0.13067606 0.34539405 0.68547342]\n",
            " [0.09437749 0.1497619  0.37090778 0.69389464 0.33574342 0.45128571]\n",
            " [0.57578883 0.10488456 0.38265104 0.65051719 0.15449987 0.58861723]\n",
            " [0.63646935 0.81813214 0.28398329 0.69724557 0.21607515 0.62769829]]\n",
            "13.295169952347251\n",
            "[1.86067195 2.08024402 1.97343803 3.13894844 1.16965708 3.07221044]\n",
            "(10, 15)\n",
            "(10,)\n",
            "4.229393204969905\n"
          ]
        }
      ]
    },
    {
      "cell_type": "markdown",
      "source": [
        "**Broadcasting**"
      ],
      "metadata": {
        "id": "RIcWwQENrim3"
      }
    },
    {
      "cell_type": "code",
      "source": [
        "# 1. Crear una matriz 3D\n",
        "A = np.ones((3, 3, 3))\n",
        "print(\"A:\")\n",
        "print(A)\n",
        "\n",
        "# 2. Crear una matriz 1D\n",
        "B = np.array([1, 2, 3])\n",
        "print(\"\\nB:\")\n",
        "print(B)\n",
        "\n",
        "# 3. Usar broadcasting para agregar B a cada \"nivel\" de A\n",
        "C = A + B[:, np.newaxis]\n",
        "print(\"\\nC:\")\n",
        "print(C)\n",
        "\n",
        "# 4. Usar broadcasting para agregar B a cada fila de cada \"nivel\" de A\n",
        "D = A + B\n",
        "print(\"\\nD:\")\n",
        "print(D)\n"
      ],
      "metadata": {
        "id": "WgjHKVplrorb"
      },
      "execution_count": null,
      "outputs": []
    },
    {
      "cell_type": "markdown",
      "source": [
        "**Regla del broadcasting**\n",
        "\n",
        "El broadcasting en NumPy sigue un estricto conjunto de reglas para determinar la interacción entre dos matrices :\n",
        "\n",
        "Regla 1: Si las dos matrices difieren en su número de dimensiones, la forma de la matriz que tiene menos dimensiones se rellena con unos en el lado principal (izquierdo).\n",
        "\n",
        "Regla 2: Si la forma de los dos matrices no coincide con ninguna dimensión, la matriz con la forma igual a 1 en esa dimensión se estira para que coincida con la otra dimensión.\n",
        "\n",
        "Regla 3: Si en cualquier dimensión los tamaños son distintos y ninguno es igual a 1, se genera un error."
      ],
      "metadata": {
        "id": "3yQsMrfhtD_w"
      }
    },
    {
      "cell_type": "code",
      "source": [
        "# Un útil truco:\n",
        "J = np.arange(0, 40, 10)\n",
        "print(J.shape)\n",
        "J = J[:, np.newaxis]  # agregamos un nuevo eje -> matriz 2D\n",
        "print(J.shape)\n",
        "print(J)\n",
        "print(J + 3)\n",
        "\n",
        "# Comparaciones, máscaras y lógica Booleana\n",
        "a1 = np.array([1, 2, 3, 4])\n",
        "b1 = np.array([4, 3, 2, 1])\n",
        "print(a1 < b1)\n",
        "print(np.all(a1 < b1))\n",
        "print(np.any(a1 < b1))\n",
        "if np.all(a1 < b1):\n",
        "    print(\" Todos los elementos en a1 son menores que los elementos en b1 \")\n",
        "elif np.any(a1 < b1):\n",
        "    print(\"Algunos elementos en a1 son menores que los elementos de b1\")\n",
        "else:\n",
        "    print(\"Todos los elementos en b1 son menores que los elementos de a1\")\n",
        "\n",
        "# Al aparecer en una expresión aritmética junto con un número escalar, u otra matriz NumPy con un tipo de datos numéricos, \n",
        "# una matriz booleana se convierte en una matriz numérica con valores 0 y 1 en lugar de False y True, respectivamente.\n",
        "# Crear una matriz booleana\n",
        "bool_array = a1 < b1\n",
        "print(\"Matriz booleana: \", bool_array)\n",
        "\n",
        "# uso de la matriz booleana \n",
        "num_array = bool_array * 10\n",
        "print(\"Matriz numérica: \", num_array)\n",
        "\n",
        "#  Esta es una propiedad útil para la computación condicional, como cuando se definen funciones\n",
        "\n",
        "def pulso(t, posicion, altura, ancho):\n",
        "    return altura * (t >= posicion) * (t <= (posicion + ancho))\n",
        "\n",
        "t = np.linspace(0, 1, 100)  # rango de valores de tiempo\n",
        "y = pulso(t, posicion=0.4, altura=1, ancho=0.2)  # Calcula el pulso en estos tiempos\n",
        "\n",
        "print(y)\n"
      ],
      "metadata": {
        "colab": {
          "base_uri": "https://localhost:8080/"
        },
        "id": "qxzRpUNatGjD",
        "outputId": "55801fd3-8877-49ef-fcbe-0af5ac979210"
      },
      "execution_count": 11,
      "outputs": [
        {
          "output_type": "stream",
          "name": "stdout",
          "text": [
            "(4,)\n",
            "(4, 1)\n",
            "[[ 0]\n",
            " [10]\n",
            " [20]\n",
            " [30]]\n",
            "[[ 3]\n",
            " [13]\n",
            " [23]\n",
            " [33]]\n",
            "[ True  True False False]\n",
            "False\n",
            "True\n",
            "Algunos elementos en a1 son menores que los elementos de b1\n",
            "Matriz booleana:  [ True  True False False]\n",
            "Matriz numérica:  [10 10  0  0]\n",
            "[0 0 0 0 0 0 0 0 0 0 0 0 0 0 0 0 0 0 0 0 0 0 0 0 0 0 0 0 0 0 0 0 0 0 0 0 0\n",
            " 0 0 0 1 1 1 1 1 1 1 1 1 1 1 1 1 1 1 1 1 1 1 1 0 0 0 0 0 0 0 0 0 0 0 0 0 0\n",
            " 0 0 0 0 0 0 0 0 0 0 0 0 0 0 0 0 0 0 0 0 0 0 0 0 0 0]\n"
          ]
        }
      ]
    },
    {
      "cell_type": "markdown",
      "source": [
        "**Matrices booleanas como máscaras**"
      ],
      "metadata": {
        "id": "VxaUSfYqx3Ba"
      }
    },
    {
      "cell_type": "code",
      "source": [
        "# masked array\n",
        "k = np.array([1, 3, -1, 5, 7, -1])\n",
        "mask = (k < 0)\n",
        "print(mask)\n",
        "\n",
        "# Un ejemplo bidimensional\n",
        "rng = np.random.RandomState(0)\n",
        "z1 = rng.randint(10, size=(3, 4))\n",
        "print(z1)\n",
        "\n",
        "# Crear una máscara para valores mayores que 5\n",
        "mask = z1 > 5\n",
        "print(mask)\n",
        "\n",
        "# Ahora, para seleccionar estos valores de la matriz, podemos simplemente indexar en esta matriz booleana,\n",
        "# esto se conoce como una operación de enmascaramiento:\n",
        "\n",
        "# Aplicar la máscara\n",
        "print(z1[mask])\n",
        "# El siguiente ejemplo muestra cómo sumar la matriz de enmascaramiento, donde True representa uno y False representa 0.\n",
        "# Suma de máscara\n",
        "print(mask.sum())\n"
      ],
      "metadata": {
        "colab": {
          "base_uri": "https://localhost:8080/"
        },
        "id": "EFSYUwFIx8lr",
        "outputId": "c75308ee-6438-4dfd-89d0-9bb5c942b291"
      },
      "execution_count": 12,
      "outputs": [
        {
          "output_type": "stream",
          "name": "stdout",
          "text": [
            "[False False  True False False  True]\n",
            "[[5 0 3 3]\n",
            " [7 9 3 5]\n",
            " [2 4 7 6]]\n",
            "[[False False False False]\n",
            " [ True  True False False]\n",
            " [False False  True  True]]\n",
            "[7 9 7 6]\n",
            "4\n"
          ]
        }
      ]
    }
  ]
}