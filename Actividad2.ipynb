{
  "nbformat": 4,
  "nbformat_minor": 0,
  "metadata": {
    "colab": {
      "provenance": [],
      "authorship_tag": "ABX9TyMGaSZ7h2MMxw9cQs1CDI9Q",
      "include_colab_link": true
    },
    "kernelspec": {
      "name": "python3",
      "display_name": "Python 3"
    },
    "language_info": {
      "name": "python"
    }
  },
  "cells": [
    {
      "cell_type": "markdown",
      "metadata": {
        "id": "view-in-github",
        "colab_type": "text"
      },
      "source": [
        "<a href=\"https://colab.research.google.com/github/Gilmar-PY/C8280AC2/blob/main/Actividad2.ipynb\" target=\"_parent\"><img src=\"https://colab.research.google.com/assets/colab-badge.svg\" alt=\"Open In Colab\"/></a>"
      ]
    },
    {
      "cell_type": "markdown",
      "source": [
        "**Matrices**                     \n",
        "Una matriz NumPy es una colección de valores de tipos de datos similares y está indexada por una tupla de números no negativos. El rango de la matriz es el número de dimensiones, y la forma de una matriz es una tupla de números que dan el tamaño de la matriz a lo largo de cada dimensión"
      ],
      "metadata": {
        "id": "FOJq3Kkoiqbk"
      }
    },
    {
      "cell_type": "code",
      "source": [
        "# Ejemplo \n",
        "from __future__ import division\n",
        "import time\n",
        "import numpy as np\n",
        "tam_vec = 1000\n",
        "def lista_python():\n",
        "    t1 = time.time()\n",
        "    X = range(tam_vec)\n",
        "    Y = range(tam_vec)\n",
        "    Z = []\n",
        "    for i in range(len(X)):\n",
        "        Z.append(X[i] + Y[i])\n",
        "    return time.time() - t1\n",
        "def matriz_numpy():\n",
        "    t1 = time.time()\n",
        "    X = np.arange(tam_vec)\n",
        "    Y = np.arange(tam_vec)\n",
        "    Z = X + Y\n",
        "    return time.time() - t1\n",
        "# Completar\n",
        "import numpy\n",
        "print(numpy.__version__)\n",
        "\n"
      ],
      "metadata": {
        "colab": {
          "base_uri": "https://localhost:8080/"
        },
        "id": "_plYwtGMjBBZ",
        "outputId": "6db2f8c4-44da-481f-a758-e291dde2354c"
      },
      "execution_count": 1,
      "outputs": [
        {
          "output_type": "stream",
          "name": "stdout",
          "text": [
            "1.22.4\n"
          ]
        }
      ]
    },
    {
      "cell_type": "markdown",
      "source": [
        "Podemos inicializar matrices NumPy a partir de listas de Python anidadas y acceder a los elementos mediante corchetes."
      ],
      "metadata": {
        "id": "vpeDY3b4l1Hy"
      }
    },
    {
      "cell_type": "code",
      "source": [
        "import numpy as np\n",
        "\n",
        "# Creamos una matriz 3x3 de todos ceros\n",
        "a = np.zeros((3,3)) \n",
        "print(a)\n",
        "\n",
        "# Creamos una matriz 2x2 de todos 1\n",
        "b = np.ones((2,2))  \n",
        "print(b)\n",
        "\n",
        "# Creamos una matriz 3x3 constantes\n",
        "c = np.full((3,3), 7)\n",
        "print(c)\n",
        "\n",
        "# Creamos una matriz 3x3 con valores aleatorios\n",
        "d = np.random.random((3,3)) \n",
        "print(d)\n",
        "\n",
        "# Creamos una matriz identidad 3x3 \n",
        "e = np.eye(3)\n",
        "print(e)\n",
        "\n",
        "# Convertir una lista en una matriz \n",
        "f = np.array([2, 3, 1,0])\n",
        "print(f)\n",
        "\n",
        "# arange() crea matrices con valores que se incrementan regularmente\n",
        "g = np.arange(0, 20, 2) # Del 0 al 20 con incremento de 2\n",
        "print(g)\n",
        "\n",
        "# Mezcla de tupla y listas\n",
        "h = np.array([(1.5,2,3), (4,5,6)]) # Crea una matriz de 2x3\n",
        "print(h)\n",
        "\n",
        "# Crear una matriz de rango con tipo de datos flotante\n",
        "i = np.arange(1, 8, dtype=np.float64)\n",
        "print(i)\n",
        "\n",
        "# linspace() crea matrices con un numero especifico de elementos que están espaciados por igual entre los valores inicial y final especificados\n",
        "j = np.linspace(0, 1, num=5) # Genera 5 números igualmente espaciados entre 0 y 1\n",
        "print(j)\n"
      ],
      "metadata": {
        "colab": {
          "base_uri": "https://localhost:8080/"
        },
        "id": "0XSEG2r7l3v1",
        "outputId": "67072ea0-e01b-46cb-edaf-bb07be3cb59b"
      },
      "execution_count": 2,
      "outputs": [
        {
          "output_type": "stream",
          "name": "stdout",
          "text": [
            "[[0. 0. 0.]\n",
            " [0. 0. 0.]\n",
            " [0. 0. 0.]]\n",
            "[[1. 1.]\n",
            " [1. 1.]]\n",
            "[[7 7 7]\n",
            " [7 7 7]\n",
            " [7 7 7]]\n",
            "[[0.87599492 0.17936402 0.37915184]\n",
            " [0.75275122 0.00429027 0.03875078]\n",
            " [0.71058745 0.16809042 0.04854757]]\n",
            "[[1. 0. 0.]\n",
            " [0. 1. 0.]\n",
            " [0. 0. 1.]]\n",
            "[2 3 1 0]\n",
            "[ 0  2  4  6  8 10 12 14 16 18]\n",
            "[[1.5 2.  3. ]\n",
            " [4.  5.  6. ]]\n",
            "[1. 2. 3. 4. 5. 6. 7.]\n",
            "[0.   0.25 0.5  0.75 1.  ]\n"
          ]
        }
      ]
    },
    {
      "cell_type": "markdown",
      "source": [
        "**Tipos de datos**\n",
        "\n",
        "Una matriz es una colección de elementos del mismo tipo de datos y NumPy admite y proporciona funciones integradas para construir matrices con argumentos opcionales para especificar explícitamente los tipos de datos requeridos."
      ],
      "metadata": {
        "id": "plfMZXmIq8FM"
      }
    },
    {
      "cell_type": "code",
      "source": [
        "# Numpy escoge el tipo de datos\n",
        "x = np.array([0, 1])  \n",
        "y = np.array([2.0, 3.0])  \n",
        "\n",
        "# Fuerza un tipo de datos en particular\n",
        "z = np.array([5, 6], dtype=np.int64)  \n",
        "print (x.dtype, y.dtype, z.dtype)\n",
        "\n",
        "### Ejercicio Completa el siguiente código\n",
        "import numpy as np\n",
        "\n",
        "np.random.seed(0)\n",
        "\n",
        "x1 = np.random.randint(10, size=6)  # matriz 1-d\n",
        "x2 = np.random.randint(10, size=(3, 4))  # matriz 2-d\n",
        "x3 = np.random.randint(10, size=(3, 4, 5)) # matriz 3-d\n",
        "\n",
        "# Imprime los atributos: dim, shape, size, dtype, itemsize y nbytes\n",
        "print(\"x1:\")\n",
        "print(\"Dimension:\", x1.ndim)\n",
        "print(\"Shape:\", x1.shape)\n",
        "print(\"Size:\", x1.size)\n",
        "print(\"Dtype:\", x1.dtype)\n",
        "print(\"Itemsize:\", x1.itemsize, \"bytes\")\n",
        "print(\"Nbytes:\", x1.nbytes, \"bytes\")\n",
        "\n",
        "print(\"\\nx2:\")\n",
        "print(\"Dimension:\", x2.ndim)\n",
        "print(\"Shape:\", x2.shape)\n",
        "print(\"Size:\", x2.size)\n",
        "print(\"Dtype:\", x2.dtype)\n",
        "print(\"Itemsize:\", x2.itemsize, \"bytes\")\n",
        "print(\"Nbytes:\", x2.nbytes, \"bytes\")\n",
        "\n",
        "print(\"\\nx3:\")\n",
        "print(\"Dimension:\", x3.ndim)\n",
        "print(\"Shape:\", x3.shape)\n",
        "print(\"Size:\", x3.size)\n",
        "print(\"Dtype:\", x3.dtype)\n",
        "print(\"Itemsize:\", x3.itemsize, \"bytes\")\n",
        "print(\"Nbytes:\", x3.nbytes, \"bytes\")\n"
      ],
      "metadata": {
        "colab": {
          "base_uri": "https://localhost:8080/"
        },
        "id": "mv0YpBdRrBb-",
        "outputId": "a7ce2343-8b4b-4c4d-fa21-24fa9a4b7021"
      },
      "execution_count": 3,
      "outputs": [
        {
          "output_type": "stream",
          "name": "stdout",
          "text": [
            "int64 float64 int64\n",
            "x1:\n",
            "Dimension: 1\n",
            "Shape: (6,)\n",
            "Size: 6\n",
            "Dtype: int64\n",
            "Itemsize: 8 bytes\n",
            "Nbytes: 48 bytes\n",
            "\n",
            "x2:\n",
            "Dimension: 2\n",
            "Shape: (3, 4)\n",
            "Size: 12\n",
            "Dtype: int64\n",
            "Itemsize: 8 bytes\n",
            "Nbytes: 96 bytes\n",
            "\n",
            "x3:\n",
            "Dimension: 3\n",
            "Shape: (3, 4, 5)\n",
            "Size: 60\n",
            "Dtype: int64\n",
            "Itemsize: 8 bytes\n",
            "Nbytes: 480 bytes\n"
          ]
        }
      ]
    },
    {
      "cell_type": "markdown",
      "source": [
        "**Indexación de matrices**"
      ],
      "metadata": {
        "id": "QmtwMiedtXfn"
      }
    }
  ]
}